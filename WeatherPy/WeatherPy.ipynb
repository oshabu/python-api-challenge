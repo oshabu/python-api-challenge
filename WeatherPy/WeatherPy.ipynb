{
 "cells": [
  {
   "cell_type": "code",
   "execution_count": 1,
   "id": "e78fdc92",
   "metadata": {},
   "outputs": [
    {
     "name": "stdout",
     "output_type": "stream",
     "text": [
      "Requirement already satisfied: citipy in c:\\users\\2mini\\anaconda3\\lib\\site-packages (0.0.5)\n",
      "Requirement already satisfied: kdtree>=0.12 in c:\\users\\2mini\\anaconda3\\lib\\site-packages (from citipy) (0.16)\n",
      "Note: you may need to restart the kernel to use updated packages.\n"
     ]
    }
   ],
   "source": [
    "pip install citipy"
   ]
  },
  {
   "cell_type": "code",
   "execution_count": 2,
   "id": "62e9636c",
   "metadata": {},
   "outputs": [],
   "source": [
    "# Dependencies and Setup\n",
    "import matplotlib.pyplot as plt\n",
    "import pandas as pd\n",
    "import numpy as np\n",
    "import requests\n",
    "import time\n",
    "from scipy.stats import linregress\n",
    "import json\n",
    "from datetime import datetime\n",
    "\n",
    "# Import API key\n",
    "from config import api_keys\n",
    "\n",
    "# Incorporated citipy to determine city based on latitude and longitude\n",
    "#install from command line before opening jupyter notebook as 'pip install citipy'\n",
    "from citipy import citipy\n",
    "\n",
    "# Output File (CSV)\n",
    "output_data_file = \"cities.csv\"\n",
    "\n",
    "# Range of latitudes and longitudes for random cities across equator\n",
    "lat_range = (-90, 90)\n",
    "lng_range = (-180, 180)"
   ]
  },
  {
   "cell_type": "code",
   "execution_count": 3,
   "id": "f764d35c",
   "metadata": {},
   "outputs": [
    {
     "name": "stdout",
     "output_type": "stream",
     "text": [
      "609 cities have been identified for weather poll\n"
     ]
    },
    {
     "data": {
      "text/html": [
       "<div>\n",
       "<style scoped>\n",
       "    .dataframe tbody tr th:only-of-type {\n",
       "        vertical-align: middle;\n",
       "    }\n",
       "\n",
       "    .dataframe tbody tr th {\n",
       "        vertical-align: top;\n",
       "    }\n",
       "\n",
       "    .dataframe thead th {\n",
       "        text-align: right;\n",
       "    }\n",
       "</style>\n",
       "<table border=\"1\" class=\"dataframe\">\n",
       "  <thead>\n",
       "    <tr style=\"text-align: right;\">\n",
       "      <th></th>\n",
       "      <th>City</th>\n",
       "      <th>Approx. Latitude</th>\n",
       "      <th>Approx. Longitude</th>\n",
       "    </tr>\n",
       "  </thead>\n",
       "  <tbody>\n",
       "    <tr>\n",
       "      <th>0</th>\n",
       "      <td>tuktoyaktuk</td>\n",
       "      <td>71.279967</td>\n",
       "      <td>-129.861754</td>\n",
       "    </tr>\n",
       "    <tr>\n",
       "      <th>1</th>\n",
       "      <td>qaanaaq</td>\n",
       "      <td>76.971173</td>\n",
       "      <td>-69.270106</td>\n",
       "    </tr>\n",
       "    <tr>\n",
       "      <th>2</th>\n",
       "      <td>albany</td>\n",
       "      <td>-84.814532</td>\n",
       "      <td>118.355389</td>\n",
       "    </tr>\n",
       "    <tr>\n",
       "      <th>3</th>\n",
       "      <td>nouadhibou</td>\n",
       "      <td>24.376824</td>\n",
       "      <td>-17.409427</td>\n",
       "    </tr>\n",
       "    <tr>\n",
       "      <th>4</th>\n",
       "      <td>port elizabeth</td>\n",
       "      <td>-38.638733</td>\n",
       "      <td>26.944916</td>\n",
       "    </tr>\n",
       "  </tbody>\n",
       "</table>\n",
       "</div>"
      ],
      "text/plain": [
       "             City  Approx. Latitude  Approx. Longitude\n",
       "0     tuktoyaktuk         71.279967        -129.861754\n",
       "1         qaanaaq         76.971173         -69.270106\n",
       "2          albany        -84.814532         118.355389\n",
       "3      nouadhibou         24.376824         -17.409427\n",
       "4  port elizabeth        -38.638733          26.944916"
      ]
     },
     "execution_count": 3,
     "metadata": {},
     "output_type": "execute_result"
    }
   ],
   "source": [
    "# List for holding lat_lngs and cities\n",
    "lat_lngs = []\n",
    "cities = []\n",
    "\n",
    "# Create a set of random lat and lng combinations\n",
    "lats = np.random.uniform(lat_range[0], lat_range[1], size=1500)\n",
    "lngs = np.random.uniform(lng_range[0], lng_range[1], size=1500)\n",
    "lat_lngs = zip(lats, lngs)\n",
    "\n",
    "saved_lats = []\n",
    "saved_longs = []\n",
    "\n",
    "# Identify nearest city for each lat, lng combination\n",
    "for lat_lng in lat_lngs:\n",
    "    city = citipy.nearest_city(lat_lng[0], lat_lng[1]).city_name\n",
    "    \n",
    "    # If the city is unique, then add it to a our cities list\n",
    "    #and add estimated latitude and longitude\n",
    "    if city not in cities:\n",
    "        cities.append(city)\n",
    "        saved_lats.append(lat_lng[0])\n",
    "        saved_longs.append(lat_lng[1])\n",
    "        \n",
    "# print(citipy.nearest_city(0, 0).keys())\n",
    "\n",
    "# Print the city count to confirm sufficient count\n",
    "print(\"{} cities have been identified for weather poll\".format(len(cities)))\n",
    "\n",
    "city_list = pd.DataFrame({\"City\":cities, \"Approx. Latitude\":saved_lats, \"Approx. Longitude\":saved_longs})\n",
    "# city_list = pd.DataFrame({\"City\":cities})\n",
    "\n",
    "#save to a csv (for reference)\n",
    "city_list.to_csv(\"./CityNameList.csv\")\n",
    "city_list.head()"
   ]
  },
  {
   "cell_type": "markdown",
   "id": "8e8f962c",
   "metadata": {},
   "source": [
    "#####  API CALLS"
   ]
  },
  {
   "cell_type": "code",
   "execution_count": 4,
   "id": "a654694c",
   "metadata": {},
   "outputs": [
    {
     "name": "stdout",
     "output_type": "stream",
     "text": [
      "http://api.openweathermap.org/data/2.5/weather?id=524901&appid=7b91f8a033579b843fbd040f3a36ea26&units=imperial&q=\n",
      "City processed: tuktoyaktuk\n",
      "City processed: qaanaaq\n",
      "City processed: albany\n",
      "City processed: nouadhibou\n",
      "City processed: port elizabeth\n",
      "City processed: barrow\n",
      "City NOT found: taolanaro\n",
      "City NOT found: amderma\n",
      "City processed: rikitea\n",
      "City processed: wattegama\n",
      "City processed: yarada\n",
      "City processed: ushuaia\n",
      "City processed: punta arenas\n",
      "City processed: san patricio\n",
      "City processed: mahebourg\n",
      "City processed: tommot\n",
      "City processed: bluff\n",
      "City processed: mataura\n",
      "City processed: saint-augustin\n",
      "City processed: jamestown\n",
      "City processed: kumluca\n",
      "City processed: zhezkazgan\n",
      "City processed: tigil\n",
      "City processed: lincoln\n",
      "City processed: longhua\n",
      "City processed: mahenge\n",
      "City NOT found: tsihombe\n",
      "City processed: ca mau\n",
      "City processed: turan\n",
      "City processed: soloneshnoye\n",
      "City processed: georgetown\n",
      "City processed: longyearbyen\n",
      "City processed: puerto ayora\n",
      "City processed: butaritari\n",
      "City processed: moose factory\n",
      "City processed: nea ankhialos\n",
      "City processed: busselton\n",
      "City processed: palmer\n",
      "City NOT found: barentsburg\n",
      "City processed: yellowknife\n",
      "City processed: talaya\n",
      "City processed: hilo\n",
      "City processed: dunhua\n",
      "City processed: bilma\n",
      "City processed: hofn\n",
      "City processed: toowoomba\n",
      "City processed: provideniya\n",
      "City processed: feijo\n",
      "City processed: sinnamary\n",
      "City processed: matli\n",
      "City processed: murdochville\n",
      "City processed: santa cruz\n",
      "City processed: luderitz\n",
      "City processed: riwaka\n",
      "City processed: maceio\n",
      "City processed: sobolevo\n",
      "City processed: mar del plata\n",
      "City processed: victoria\n",
      "City processed: amapa\n",
      "City processed: lagoa\n",
      "City processed: lumby\n",
      "City processed: pakxan\n",
      "City processed: ilulissat\n",
      "City processed: praya\n",
      "City processed: chelno-vershiny\n",
      "City processed: avarua\n",
      "City processed: bredasdorp\n",
      "City processed: ust-kuyga\n",
      "City processed: nago\n",
      "City processed: kavieng\n",
      "City processed: yulara\n",
      "City processed: puerto cabezas\n",
      "City processed: cape town\n",
      "City processed: mayo\n",
      "City processed: norman wells\n",
      "City processed: aklavik\n",
      "City processed: port alfred\n",
      "City processed: faanui\n",
      "City processed: hithadhoo\n",
      "City processed: tutoia\n",
      "City processed: bayir\n",
      "City processed: mana\n",
      "City NOT found: mys shmidta\n",
      "City processed: hays\n",
      "City NOT found: belushya guba\n",
      "City NOT found: canitas\n",
      "City processed: sao jose da coroa grande\n",
      "City processed: cabo san lucas\n",
      "City processed: nicoya\n",
      "City processed: charters towers\n",
      "City processed: axim\n",
      "City processed: airai\n",
      "City processed: opuwo\n",
      "City processed: tiksi\n",
      "City processed: chuy\n",
      "City processed: east london\n",
      "City processed: phan thiet\n",
      "City processed: tiarei\n",
      "City processed: kahului\n",
      "City processed: lamballe\n",
      "City processed: banda aceh\n",
      "City processed: baykit\n",
      "City processed: atuona\n",
      "City NOT found: lolua\n",
      "City processed: bambous virieux\n",
      "City processed: pushkino\n",
      "City processed: dunedin\n",
      "City processed: praia da vitoria\n",
      "City processed: moche\n",
      "City processed: geraldton\n",
      "City processed: castro\n",
      "City processed: beringovskiy\n",
      "City processed: namibe\n",
      "City processed: prince rupert\n",
      "City processed: barber\n",
      "City processed: hermanus\n",
      "City NOT found: samusu\n",
      "City processed: pangnirtung\n",
      "City processed: eydhafushi\n",
      "City processed: vaini\n",
      "City processed: lebu\n",
      "City processed: poronaysk\n",
      "City processed: juneau\n",
      "City processed: comodoro rivadavia\n",
      "City processed: bogomila\n",
      "City processed: myaundzha\n",
      "City processed: masaka\n",
      "City processed: balakhta\n",
      "City processed: buraydah\n",
      "City NOT found: talawdi\n",
      "City processed: norsup\n",
      "City processed: port-gentil\n",
      "City processed: hasaki\n",
      "City processed: ugoofaaru\n",
      "City processed: atlantic beach\n",
      "City processed: aksarka\n",
      "City processed: kapaa\n",
      "City processed: pevek\n",
      "City processed: kloulklubed\n",
      "City processed: kangaatsiaq\n",
      "City processed: caravelas\n",
      "City processed: sao filipe\n",
      "City processed: along\n",
      "City processed: lorengau\n",
      "City processed: ishigaki\n",
      "City processed: mandalgovi\n",
      "City processed: faya\n",
      "City processed: khatanga\n",
      "City processed: kalmunai\n",
      "City NOT found: sentyabrskiy\n",
      "City processed: ballina\n",
      "City processed: klaksvik\n",
      "City processed: clyde river\n",
      "City processed: buala\n",
      "City processed: saint anthony\n",
      "City processed: ajaigarh\n",
      "City processed: carberry\n",
      "City processed: muros\n",
      "City processed: new norfolk\n",
      "City processed: cherskiy\n",
      "City processed: west bay\n",
      "City processed: tshikapa\n",
      "City processed: vostok\n",
      "City processed: cabedelo\n",
      "City processed: penzance\n",
      "City processed: hobart\n",
      "City processed: port blair\n",
      "City processed: at-bashi\n",
      "City processed: vila velha\n",
      "City processed: xuddur\n",
      "City processed: deggendorf\n",
      "City processed: pochutla\n",
      "City processed: saskylakh\n",
      "City processed: kamen-rybolov\n",
      "City processed: ancud\n",
      "City processed: vila franca do campo\n",
      "City processed: kruisfontein\n",
      "City processed: la tuque\n",
      "City NOT found: ciras\n",
      "City processed: xai-xai\n",
      "City processed: grindavik\n",
      "City processed: skjervoy\n",
      "City processed: uyemskiy\n",
      "City processed: borogontsy\n",
      "City processed: te anau\n",
      "City processed: esperance\n",
      "City processed: murray bridge\n",
      "City processed: acapulco\n",
      "City processed: hamilton\n",
      "City processed: ouegoa\n",
      "City processed: kutum\n",
      "City processed: bethel\n",
      "City processed: gandorhun\n",
      "City NOT found: moji das cruzes\n",
      "City processed: nikolskoye\n",
      "City processed: bathsheba\n",
      "City processed: newala\n",
      "City NOT found: illoqqortoormiut\n",
      "City processed: karratha\n",
      "City processed: kirakira\n",
      "City processed: beneditinos\n",
      "City processed: ponta do sol\n",
      "City processed: vung tau\n",
      "City processed: muscat\n",
      "City processed: lebedinyy\n",
      "City processed: luanda\n",
      "City processed: grand forks\n",
      "City NOT found: malwan\n",
      "City processed: avera\n",
      "City processed: ngunguru\n",
      "City processed: kaitangata\n",
      "City processed: buenos aires\n",
      "City NOT found: attawapiskat\n",
      "City processed: nyurba\n",
      "City processed: isabela\n",
      "City NOT found: tumannyy\n",
      "City processed: gorom-gorom\n",
      "City processed: xining\n",
      "City processed: hami\n",
      "City processed: laguna\n",
      "City processed: ribeira grande\n",
      "City processed: fort nelson\n",
      "City processed: sabang\n",
      "City processed: thompson\n",
      "City processed: najran\n",
      "City processed: uarini\n",
      "City processed: tabuk\n",
      "City processed: garmsar\n",
      "City processed: puerto escondido\n",
      "City processed: brekstad\n",
      "City processed: saldanha\n",
      "City NOT found: ijaki\n",
      "City processed: maryville\n",
      "City NOT found: bolungarvik\n",
      "City processed: leh\n",
      "City processed: chara\n",
      "City processed: ossora\n",
      "City NOT found: nizhneyansk\n",
      "City processed: upernavik\n",
      "City processed: torbay\n",
      "City processed: mbandaka\n",
      "City processed: nome\n",
      "City processed: chicama\n",
      "City processed: arraial do cabo\n",
      "City processed: fuzhou\n",
      "City processed: hay river\n",
      "City processed: mopti\n",
      "City processed: rocha\n",
      "City processed: pipri\n",
      "City processed: churapcha\n",
      "City processed: chokurdakh\n",
      "City processed: hanko\n",
      "City processed: san jose\n",
      "City processed: berlevag\n",
      "City processed: nishihara\n",
      "City processed: benjamin aceval\n",
      "City processed: victor harbor\n",
      "City processed: iqaluit\n",
      "City processed: plainview\n",
      "City processed: dilla\n",
      "City processed: pisco\n",
      "City processed: nanortalik\n",
      "City processed: coihaique\n",
      "City processed: kupang\n",
      "City processed: mabopane\n",
      "City processed: belmonte\n",
      "City processed: gayny\n",
      "City processed: dikson\n",
      "City processed: saint-philippe\n",
      "City processed: tateyama\n",
      "City processed: japura\n",
      "City processed: mizdah\n",
      "City processed: yulin\n",
      "City processed: teya\n",
      "City processed: andra\n",
      "City processed: carnarvon\n",
      "City processed: faridpur\n",
      "City processed: maniitsoq\n",
      "City processed: tuatapere\n",
      "City processed: pasinler\n",
      "City processed: salinopolis\n",
      "City processed: oranjestad\n",
      "City processed: sistranda\n",
      "City processed: touros\n",
      "City processed: dicabisagan\n",
      "City processed: hambantota\n",
      "City processed: paamiut\n",
      "City processed: jasper\n",
      "City NOT found: vaitupu\n",
      "City processed: necochea\n",
      "City processed: guna\n",
      "City processed: takoradi\n",
      "City processed: san joaquin\n",
      "City processed: poum\n",
      "City processed: kavaratti\n",
      "City processed: sumbe\n",
      "City processed: ostersund\n",
      "City processed: kodiak\n",
      "City NOT found: grand river south east\n",
      "City NOT found: palabuhanratu\n",
      "City processed: chihuahua\n",
      "City processed: general roca\n",
      "City NOT found: dubenskiy\n",
      "City NOT found: warqla\n",
      "City processed: nazare\n",
      "City processed: imeni poliny osipenko\n",
      "City processed: scottsbluff\n",
      "City processed: lavrentiya\n",
      "City processed: salalah\n",
      "City processed: guanay\n",
      "City processed: tselinnoye\n",
      "City processed: margate\n",
      "City processed: bismarck\n",
      "City processed: sjovegan\n",
      "City NOT found: tabialan\n",
      "City processed: bada\n",
      "City processed: codrington\n",
      "City processed: mayumba\n",
      "City processed: mizoch\n"
     ]
    },
    {
     "name": "stdout",
     "output_type": "stream",
     "text": [
      "City processed: correntina\n",
      "City processed: katangli\n",
      "City processed: musoma\n",
      "City processed: rawson\n",
      "City processed: constitucion\n",
      "City processed: bereda\n",
      "City processed: christchurch\n",
      "City processed: bongaree\n",
      "City processed: porto torres\n",
      "City processed: dalmatovo\n",
      "City processed: kuito\n",
      "City processed: arkhipo-osipovka\n",
      "City processed: tasiilaq\n",
      "City processed: khorixas\n",
      "City processed: korhogo\n",
      "City processed: rio gallegos\n",
      "City processed: coffeyville\n",
      "City processed: pacific grove\n",
      "City processed: mount gambier\n",
      "City processed: de aar\n",
      "City processed: piacabucu\n",
      "City processed: sambava\n",
      "City processed: diamantino\n",
      "City processed: chaman\n",
      "City processed: morvi\n",
      "City processed: sitka\n",
      "City processed: tukrah\n",
      "City processed: shingu\n",
      "City NOT found: artyk\n",
      "City processed: yumen\n",
      "City processed: cap malheureux\n",
      "City processed: likasi\n",
      "City NOT found: chagda\n",
      "City processed: rypefjord\n",
      "City processed: keflavik\n",
      "City processed: mount isa\n",
      "City processed: cravo norte\n",
      "City processed: ostrovnoy\n",
      "City processed: graaff-reinet\n",
      "City processed: fortuna\n",
      "City processed: anori\n",
      "City processed: tiruchchendur\n",
      "City processed: biak\n",
      "City processed: padang\n",
      "City NOT found: sperkhias\n",
      "City processed: lukovetskiy\n",
      "City processed: narsaq\n",
      "City processed: coquimbo\n",
      "City NOT found: tabiauea\n",
      "City processed: barbacena\n",
      "City processed: surt\n",
      "City processed: itarema\n",
      "City processed: bonavista\n",
      "City processed: ayan\n",
      "City processed: makat\n",
      "City processed: timbiqui\n",
      "City processed: jacksonville\n",
      "City processed: ambilobe\n",
      "City processed: colac\n",
      "City NOT found: zhanatas\n",
      "City processed: concordia\n",
      "City processed: dingle\n",
      "City NOT found: samalaeulu\n",
      "City processed: waingapu\n",
      "City processed: andapa\n",
      "City processed: magnolia\n",
      "City processed: shaunavon\n",
      "City processed: samarai\n",
      "City processed: bengkulu\n",
      "City processed: alekseyevsk\n",
      "City processed: staroaleyskoye\n",
      "City processed: kanganpur\n",
      "City processed: seabra\n",
      "City processed: abu dhabi\n",
      "City processed: lata\n",
      "City processed: paracuru\n",
      "City processed: hurricane\n",
      "City processed: abrego\n",
      "City processed: husavik\n",
      "City processed: santiago del estero\n",
      "City processed: muli\n",
      "City processed: boshnyakovo\n",
      "City processed: istok\n",
      "City processed: veraval\n",
      "City NOT found: umzimvubu\n",
      "City NOT found: burica\n",
      "City processed: pervomayskoye\n",
      "City processed: mae sai\n",
      "City processed: emirdag\n",
      "City processed: sulangan\n",
      "City processed: menzelinsk\n",
      "City processed: san cristobal\n",
      "City processed: leningradskiy\n",
      "City processed: teguise\n",
      "City processed: oyama\n",
      "City processed: manakara\n",
      "City processed: matagami\n",
      "City processed: desbiens\n",
      "City processed: gladstone\n",
      "City processed: beaverlodge\n",
      "City processed: navashino\n",
      "City processed: olinda\n",
      "City processed: banamba\n",
      "City processed: camana\n",
      "City NOT found: ambodifototra\n",
      "City processed: high level\n",
      "City processed: korbach\n",
      "City processed: meulaboh\n",
      "City processed: manono\n",
      "City processed: beyneu\n",
      "City processed: walvis bay\n",
      "City processed: fioletovo\n",
      "City processed: arman\n",
      "City processed: guarapari\n",
      "City processed: muisne\n",
      "City processed: zamora\n",
      "City processed: tarko-sale\n",
      "City processed: severo-kurilsk\n",
      "City processed: biaora\n",
      "City processed: nantucket\n",
      "City processed: saint-joseph\n",
      "City processed: zhigansk\n",
      "City processed: kiama\n",
      "City processed: zhireken\n",
      "City processed: otane\n",
      "City processed: arlit\n",
      "City processed: khani\n",
      "City processed: maldonado\n",
      "City processed: tagusao\n",
      "City processed: asau\n",
      "City processed: chincha alta\n",
      "City processed: cabra\n",
      "City processed: tagbac\n",
      "City processed: santa fe\n",
      "City processed: akdepe\n",
      "City processed: banepa\n",
      "City processed: port macquarie\n",
      "City processed: miranda\n",
      "City NOT found: mabilbila\n",
      "City processed: sao joao da barra\n",
      "City processed: port hardy\n",
      "City processed: perth\n",
      "City processed: lompoc\n",
      "City processed: kaolack\n",
      "City processed: neuquen\n",
      "City processed: labytnangi\n",
      "City processed: pozo colorado\n",
      "City processed: sungairaya\n",
      "City processed: mafinga\n",
      "City processed: marfino\n",
      "City processed: maloy\n",
      "City processed: malartic\n",
      "City processed: tomatlan\n",
      "City processed: seydi\n",
      "City processed: salta\n",
      "City processed: byron bay\n",
      "City processed: comapa\n",
      "City processed: batagay-alyta\n",
      "City processed: blagoyevo\n",
      "City processed: benavente\n",
      "City processed: dori\n",
      "City processed: bella union\n",
      "City processed: shimoda\n",
      "City processed: kaniv\n",
      "City processed: virginia beach\n",
      "City processed: mwingi\n",
      "City processed: palembang\n",
      "City processed: nuuk\n",
      "City processed: isangel\n",
      "City processed: obeliai\n",
      "City processed: valley city\n",
      "City processed: lahat\n",
      "City processed: hobyo\n",
      "City processed: challans\n",
      "City processed: grand gaube\n",
      "City processed: ambulu\n",
      "City processed: veracruz\n",
      "City processed: union\n",
      "City processed: saint george\n",
      "City processed: kabala\n",
      "City processed: tawang\n",
      "City processed: lyuban\n",
      "City processed: bud\n",
      "City processed: saint-francois\n",
      "City processed: elizabeth city\n",
      "City processed: vylkove\n",
      "City processed: dickinson\n",
      "City processed: holetown\n",
      "City processed: sayyan\n",
      "City processed: teahupoo\n",
      "City processed: adrar\n",
      "City processed: birjand\n",
      "City processed: panzhihua\n",
      "City processed: mackenzie\n",
      "City processed: wajir\n",
      "City processed: kaa-khem\n",
      "City processed: chapais\n",
      "City processed: tres arroyos\n",
      "City processed: nizhniy ufaley\n",
      "City processed: pundaguitan\n",
      "City processed: namtsy\n",
      "City processed: taoudenni\n",
      "City processed: kholm\n",
      "City processed: port washington\n",
      "City processed: talcahuano\n",
      "City processed: eureka\n",
      "City processed: tezu\n",
      "City NOT found: bargal\n",
      "City processed: cobadin\n",
      "City processed: olafsvik\n",
      "City processed: erdaojiang\n",
      "City processed: lida\n",
      "City processed: honiara\n",
      "City processed: ahipara\n",
      "City processed: hajipur\n",
      "City processed: ust-maya\n",
      "City NOT found: saleaula\n",
      "City processed: talnakh\n",
      "City processed: san quintin\n",
      "City processed: dire\n",
      "City processed: escanaba\n",
      "City processed: puerto carreno\n",
      "City processed: broome\n",
      "City processed: jacareacanga\n",
      "City NOT found: skalistyy\n",
      "City processed: amberley\n",
      "City processed: shenzhen\n",
      "City processed: alexandria\n",
      "City processed: tambovka\n",
      "City processed: hearst\n",
      "City processed: sao geraldo do araguaia\n",
      "City processed: inhambane\n",
      "City processed: ambon\n",
      "City processed: fallon\n",
      "City processed: la ronge\n",
      "City NOT found: viligili\n",
      "City NOT found: karaul\n",
      "City processed: aras\n",
      "City processed: acari\n",
      "City processed: saraza\n",
      "City processed: wakkanai\n",
      "City processed: pimentel\n",
      "City processed: flinders\n",
      "City processed: zyryanka\n",
      "City NOT found: phan rang\n",
      "City processed: tazovskiy\n",
      "City processed: ponta delgada\n",
      "City processed: sorland\n",
      "City processed: shubarshi\n",
      "City processed: cockburn town\n",
      "City processed: kirillov\n",
      "City processed: souillac\n",
      "City processed: viedma\n",
      "City processed: orasac\n",
      "City processed: finschhafen\n",
      "City processed: yar-sale\n",
      "City processed: huixtla\n",
      "City processed: san pedro del parana\n",
      "City NOT found: vastervik\n",
      "City processed: ciudad bolivar\n",
      "City processed: svetlogorsk\n",
      "City processed: tecoanapa\n",
      "City processed: gaoual\n",
      "City processed: fairbanks\n",
      "City processed: nenita\n",
      "City processed: lieksa\n",
      "City processed: kondopoga\n",
      "City processed: ankazoabo\n",
      "City processed: makakilo city\n",
      "City processed: auki\n",
      "City processed: beloha\n",
      "City processed: hirara\n",
      "City processed: nisia floresta\n",
      "City processed: ketchikan\n",
      "City processed: zhuhai\n",
      "City processed: tupik\n",
      "City processed: guisguis\n",
      "City processed: granadilla de abona\n",
      "City processed: namatanai\n",
      "City processed: bubaque\n",
      "City processed: sabzevar\n",
      "City processed: richards bay\n",
      "City processed: les escoumins\n",
      "City processed: burgeo\n",
      "City processed: broken hill\n",
      "City processed: riyadh\n",
      "City processed: ascension\n",
      "City processed: bowen\n",
      "City processed: yarkovo\n",
      "City processed: snyder\n"
     ]
    }
   ],
   "source": [
    "#create url for query with imperial units and city at the end\n",
    "#url from https://openweathermap.org/appid\n",
    "url = \"http://api.openweathermap.org/data/2.5/weather?id=524901\"\n",
    "unit = \"imperial\"\n",
    "query_url = f\"{url}&appid={api_keys}&units={unit}&q=\"\n",
    "print(query_url)\n",
    "# Lists for results\n",
    "lat = []\n",
    "lon = []\n",
    "foundCities = []\n",
    "NotfoundCities =[]\n",
    "temp = []\n",
    "humidity = []\n",
    "cloudiness = []\n",
    "windSpeed = []\n",
    "date = []\n",
    "country = []\n",
    "\n",
    "for city in cities:\n",
    "    try:\n",
    "        response = requests.get(query_url + city).json()\n",
    "        lat.append(response[\"coord\"][\"lat\"])\n",
    "        lon.append(response[\"coord\"][\"lon\"])\n",
    "        temp.append(response[\"main\"][\"temp_max\"])\n",
    "        humidity.append(response[\"main\"][\"humidity\"])\n",
    "        cloudiness.append(response[\"clouds\"][\"all\"])\n",
    "        windSpeed.append(response[\"wind\"][\"speed\"])\n",
    "        date.append(response[\"dt\"])\n",
    "        country.append(response[\"sys\"][\"country\"])\n",
    "        foundCities.append(city)\n",
    "        print(f\"City processed: {city}\")\n",
    "    except:\n",
    "        print(f\"City NOT found: {city}\")\n",
    "        NotfoundCities.append(city)\n",
    "    "
   ]
  },
  {
   "cell_type": "markdown",
   "id": "e5362fd4",
   "metadata": {},
   "source": [
    "### Convert Raw Data to DataFrame\n"
   ]
  },
  {
   "cell_type": "markdown",
   "id": "66437e6c",
   "metadata": {},
   "source": [
    "#### >> Export the city data into a .csv.\n",
    "#### >> Display the DataFrame"
   ]
  },
  {
   "cell_type": "code",
   "execution_count": 5,
   "id": "5f157453",
   "metadata": {},
   "outputs": [],
   "source": [
    "Weather_DF = pd.DataFrame({\"City\": foundCities,\n",
    "                           \"Country\": country,\n",
    "                           \"Temperature\": temp,\n",
    "                           \"Humidity\": humidity,\n",
    "                           \"Cloudiness\": cloudiness,\n",
    "                           \"Windspeed\":windSpeed,\n",
    "                           \"Latitude\": lat,\n",
    "                           \"Longitude\": lon,\n",
    "                           \"Date\": date\n",
    "                          })"
   ]
  },
  {
   "cell_type": "code",
   "execution_count": 6,
   "id": "6af3ad70",
   "metadata": {},
   "outputs": [],
   "source": [
    "# Export the City_Data into a csv\n",
    "Weather_DF.to_csv(output_data_file, index_label=\"City_ID\")"
   ]
  },
  {
   "cell_type": "code",
   "execution_count": 7,
   "id": "6d400313",
   "metadata": {},
   "outputs": [
    {
     "data": {
      "text/plain": [
       "City           566\n",
       "Country        566\n",
       "Temperature    566\n",
       "Humidity       566\n",
       "Cloudiness     566\n",
       "Windspeed      566\n",
       "Latitude       566\n",
       "Longitude      566\n",
       "Date           566\n",
       "dtype: int64"
      ]
     },
     "execution_count": 7,
     "metadata": {},
     "output_type": "execute_result"
    }
   ],
   "source": [
    "# Show Record Count\n",
    "Weather_DF.count()"
   ]
  },
  {
   "cell_type": "code",
   "execution_count": 8,
   "id": "faa14fb7",
   "metadata": {},
   "outputs": [
    {
     "data": {
      "text/html": [
       "<div>\n",
       "<style scoped>\n",
       "    .dataframe tbody tr th:only-of-type {\n",
       "        vertical-align: middle;\n",
       "    }\n",
       "\n",
       "    .dataframe tbody tr th {\n",
       "        vertical-align: top;\n",
       "    }\n",
       "\n",
       "    .dataframe thead th {\n",
       "        text-align: right;\n",
       "    }\n",
       "</style>\n",
       "<table border=\"1\" class=\"dataframe\">\n",
       "  <thead>\n",
       "    <tr style=\"text-align: right;\">\n",
       "      <th></th>\n",
       "      <th>City</th>\n",
       "      <th>Country</th>\n",
       "      <th>Temperature</th>\n",
       "      <th>Humidity</th>\n",
       "      <th>Cloudiness</th>\n",
       "      <th>Windspeed</th>\n",
       "      <th>Latitude</th>\n",
       "      <th>Longitude</th>\n",
       "      <th>Date</th>\n",
       "    </tr>\n",
       "  </thead>\n",
       "  <tbody>\n",
       "    <tr>\n",
       "      <th>0</th>\n",
       "      <td>tuktoyaktuk</td>\n",
       "      <td>CA</td>\n",
       "      <td>-24.50</td>\n",
       "      <td>100</td>\n",
       "      <td>91</td>\n",
       "      <td>5.01</td>\n",
       "      <td>69.4541</td>\n",
       "      <td>-133.0374</td>\n",
       "      <td>1647859737</td>\n",
       "    </tr>\n",
       "    <tr>\n",
       "      <th>1</th>\n",
       "      <td>qaanaaq</td>\n",
       "      <td>GL</td>\n",
       "      <td>-6.30</td>\n",
       "      <td>93</td>\n",
       "      <td>100</td>\n",
       "      <td>10.83</td>\n",
       "      <td>77.4840</td>\n",
       "      <td>-69.3632</td>\n",
       "      <td>1647859737</td>\n",
       "    </tr>\n",
       "    <tr>\n",
       "      <th>2</th>\n",
       "      <td>albany</td>\n",
       "      <td>US</td>\n",
       "      <td>36.68</td>\n",
       "      <td>80</td>\n",
       "      <td>46</td>\n",
       "      <td>1.01</td>\n",
       "      <td>42.6001</td>\n",
       "      <td>-73.9662</td>\n",
       "      <td>1647859572</td>\n",
       "    </tr>\n",
       "    <tr>\n",
       "      <th>3</th>\n",
       "      <td>nouadhibou</td>\n",
       "      <td>MR</td>\n",
       "      <td>66.18</td>\n",
       "      <td>59</td>\n",
       "      <td>0</td>\n",
       "      <td>24.16</td>\n",
       "      <td>20.9310</td>\n",
       "      <td>-17.0347</td>\n",
       "      <td>1647859739</td>\n",
       "    </tr>\n",
       "    <tr>\n",
       "      <th>4</th>\n",
       "      <td>port elizabeth</td>\n",
       "      <td>ZA</td>\n",
       "      <td>87.10</td>\n",
       "      <td>59</td>\n",
       "      <td>20</td>\n",
       "      <td>6.91</td>\n",
       "      <td>-33.9180</td>\n",
       "      <td>25.5701</td>\n",
       "      <td>1647859740</td>\n",
       "    </tr>\n",
       "    <tr>\n",
       "      <th>...</th>\n",
       "      <td>...</td>\n",
       "      <td>...</td>\n",
       "      <td>...</td>\n",
       "      <td>...</td>\n",
       "      <td>...</td>\n",
       "      <td>...</td>\n",
       "      <td>...</td>\n",
       "      <td>...</td>\n",
       "      <td>...</td>\n",
       "    </tr>\n",
       "    <tr>\n",
       "      <th>561</th>\n",
       "      <td>riyadh</td>\n",
       "      <td>SA</td>\n",
       "      <td>84.34</td>\n",
       "      <td>10</td>\n",
       "      <td>49</td>\n",
       "      <td>11.88</td>\n",
       "      <td>24.6877</td>\n",
       "      <td>46.7219</td>\n",
       "      <td>1647859941</td>\n",
       "    </tr>\n",
       "    <tr>\n",
       "      <th>562</th>\n",
       "      <td>ascension</td>\n",
       "      <td>US</td>\n",
       "      <td>57.99</td>\n",
       "      <td>91</td>\n",
       "      <td>0</td>\n",
       "      <td>0.00</td>\n",
       "      <td>30.2169</td>\n",
       "      <td>-90.9001</td>\n",
       "      <td>1647860211</td>\n",
       "    </tr>\n",
       "    <tr>\n",
       "      <th>563</th>\n",
       "      <td>bowen</td>\n",
       "      <td>AU</td>\n",
       "      <td>78.42</td>\n",
       "      <td>67</td>\n",
       "      <td>30</td>\n",
       "      <td>14.00</td>\n",
       "      <td>-20.0167</td>\n",
       "      <td>148.2333</td>\n",
       "      <td>1647860212</td>\n",
       "    </tr>\n",
       "    <tr>\n",
       "      <th>564</th>\n",
       "      <td>yarkovo</td>\n",
       "      <td>RU</td>\n",
       "      <td>30.78</td>\n",
       "      <td>89</td>\n",
       "      <td>95</td>\n",
       "      <td>5.73</td>\n",
       "      <td>57.4028</td>\n",
       "      <td>67.0786</td>\n",
       "      <td>1647860213</td>\n",
       "    </tr>\n",
       "    <tr>\n",
       "      <th>565</th>\n",
       "      <td>snyder</td>\n",
       "      <td>US</td>\n",
       "      <td>59.34</td>\n",
       "      <td>72</td>\n",
       "      <td>100</td>\n",
       "      <td>17.27</td>\n",
       "      <td>32.7179</td>\n",
       "      <td>-100.9176</td>\n",
       "      <td>1647860213</td>\n",
       "    </tr>\n",
       "  </tbody>\n",
       "</table>\n",
       "<p>566 rows × 9 columns</p>\n",
       "</div>"
      ],
      "text/plain": [
       "               City Country  Temperature  Humidity  Cloudiness  Windspeed  \\\n",
       "0       tuktoyaktuk      CA       -24.50       100          91       5.01   \n",
       "1           qaanaaq      GL        -6.30        93         100      10.83   \n",
       "2            albany      US        36.68        80          46       1.01   \n",
       "3        nouadhibou      MR        66.18        59           0      24.16   \n",
       "4    port elizabeth      ZA        87.10        59          20       6.91   \n",
       "..              ...     ...          ...       ...         ...        ...   \n",
       "561          riyadh      SA        84.34        10          49      11.88   \n",
       "562       ascension      US        57.99        91           0       0.00   \n",
       "563           bowen      AU        78.42        67          30      14.00   \n",
       "564         yarkovo      RU        30.78        89          95       5.73   \n",
       "565          snyder      US        59.34        72         100      17.27   \n",
       "\n",
       "     Latitude  Longitude        Date  \n",
       "0     69.4541  -133.0374  1647859737  \n",
       "1     77.4840   -69.3632  1647859737  \n",
       "2     42.6001   -73.9662  1647859572  \n",
       "3     20.9310   -17.0347  1647859739  \n",
       "4    -33.9180    25.5701  1647859740  \n",
       "..        ...        ...         ...  \n",
       "561   24.6877    46.7219  1647859941  \n",
       "562   30.2169   -90.9001  1647860211  \n",
       "563  -20.0167   148.2333  1647860212  \n",
       "564   57.4028    67.0786  1647860213  \n",
       "565   32.7179  -100.9176  1647860213  \n",
       "\n",
       "[566 rows x 9 columns]"
      ]
     },
     "execution_count": 8,
     "metadata": {},
     "output_type": "execute_result"
    }
   ],
   "source": [
    "Weather_DF"
   ]
  },
  {
   "cell_type": "markdown",
   "id": "64a52305",
   "metadata": {},
   "source": [
    "### Latitude vs. Temperature Plot\n",
    "Inspect the data and remove the cities where the humidity > 100%.\n",
    "Skip this step if there are no cities that have humidity > 100%."
   ]
  },
  {
   "cell_type": "code",
   "execution_count": 9,
   "id": "3b1efb3e",
   "metadata": {
    "scrolled": true
   },
   "outputs": [
    {
     "name": "stdout",
     "output_type": "stream",
     "text": [
      "Empty DataFrame\n",
      "Columns: [City, Country, Temperature, Humidity, Cloudiness, Windspeed, Latitude, Longitude, Date]\n",
      "Index: []\n"
     ]
    },
    {
     "data": {
      "text/plain": [
       "Int64Index([], dtype='int64')"
      ]
     },
     "execution_count": 9,
     "metadata": {},
     "output_type": "execute_result"
    }
   ],
   "source": [
    "badHumidityDF = Weather_DF[(Weather_DF['Humidity'] > 100)]\n",
    "print(badHumidityDF)\n",
    "#  Get the indices of cities that have humidity over 100%.\n",
    "badHumidityDF.index"
   ]
  },
  {
   "cell_type": "code",
   "execution_count": 10,
   "id": "20236dcf",
   "metadata": {},
   "outputs": [
    {
     "data": {
      "text/html": [
       "<div>\n",
       "<style scoped>\n",
       "    .dataframe tbody tr th:only-of-type {\n",
       "        vertical-align: middle;\n",
       "    }\n",
       "\n",
       "    .dataframe tbody tr th {\n",
       "        vertical-align: top;\n",
       "    }\n",
       "\n",
       "    .dataframe thead th {\n",
       "        text-align: right;\n",
       "    }\n",
       "</style>\n",
       "<table border=\"1\" class=\"dataframe\">\n",
       "  <thead>\n",
       "    <tr style=\"text-align: right;\">\n",
       "      <th></th>\n",
       "      <th>City</th>\n",
       "      <th>Country</th>\n",
       "      <th>Latitude</th>\n",
       "      <th>Temperature</th>\n",
       "      <th>Humidity</th>\n",
       "      <th>Cloudiness</th>\n",
       "      <th>Windspeed</th>\n",
       "      <th>Date</th>\n",
       "    </tr>\n",
       "  </thead>\n",
       "  <tbody>\n",
       "    <tr>\n",
       "      <th>0</th>\n",
       "      <td>tuktoyaktuk</td>\n",
       "      <td>CA</td>\n",
       "      <td>69.4541</td>\n",
       "      <td>-24.50</td>\n",
       "      <td>100</td>\n",
       "      <td>91</td>\n",
       "      <td>5.01</td>\n",
       "      <td>1647859737</td>\n",
       "    </tr>\n",
       "    <tr>\n",
       "      <th>1</th>\n",
       "      <td>qaanaaq</td>\n",
       "      <td>GL</td>\n",
       "      <td>77.4840</td>\n",
       "      <td>-6.30</td>\n",
       "      <td>93</td>\n",
       "      <td>100</td>\n",
       "      <td>10.83</td>\n",
       "      <td>1647859737</td>\n",
       "    </tr>\n",
       "    <tr>\n",
       "      <th>2</th>\n",
       "      <td>albany</td>\n",
       "      <td>US</td>\n",
       "      <td>42.6001</td>\n",
       "      <td>36.68</td>\n",
       "      <td>80</td>\n",
       "      <td>46</td>\n",
       "      <td>1.01</td>\n",
       "      <td>1647859572</td>\n",
       "    </tr>\n",
       "    <tr>\n",
       "      <th>3</th>\n",
       "      <td>nouadhibou</td>\n",
       "      <td>MR</td>\n",
       "      <td>20.9310</td>\n",
       "      <td>66.18</td>\n",
       "      <td>59</td>\n",
       "      <td>0</td>\n",
       "      <td>24.16</td>\n",
       "      <td>1647859739</td>\n",
       "    </tr>\n",
       "    <tr>\n",
       "      <th>4</th>\n",
       "      <td>port elizabeth</td>\n",
       "      <td>ZA</td>\n",
       "      <td>-33.9180</td>\n",
       "      <td>87.10</td>\n",
       "      <td>59</td>\n",
       "      <td>20</td>\n",
       "      <td>6.91</td>\n",
       "      <td>1647859740</td>\n",
       "    </tr>\n",
       "  </tbody>\n",
       "</table>\n",
       "</div>"
      ],
      "text/plain": [
       "             City Country  Latitude  Temperature  Humidity  Cloudiness  \\\n",
       "0     tuktoyaktuk      CA   69.4541       -24.50       100          91   \n",
       "1         qaanaaq      GL   77.4840        -6.30        93         100   \n",
       "2          albany      US   42.6001        36.68        80          46   \n",
       "3      nouadhibou      MR   20.9310        66.18        59           0   \n",
       "4  port elizabeth      ZA  -33.9180        87.10        59          20   \n",
       "\n",
       "   Windspeed        Date  \n",
       "0       5.01  1647859737  \n",
       "1      10.83  1647859737  \n",
       "2       1.01  1647859572  \n",
       "3      24.16  1647859739  \n",
       "4       6.91  1647859740  "
      ]
     },
     "execution_count": 10,
     "metadata": {},
     "output_type": "execute_result"
    }
   ],
   "source": [
    "# Extract relevant fields from the data frame\n",
    "City_Data = Weather_DF[[\"City\",\"Country\", \"Latitude\", \"Temperature\", \"Humidity\", \"Cloudiness\", \"Windspeed\", \"Date\"]]\n",
    "\n",
    "# Export the City_Data into a csv\n",
    "#Windows path\n",
    "City_Data.to_csv(r'City_Data.csv', index = False)\n",
    "City_Data.head()"
   ]
  },
  {
   "cell_type": "markdown",
   "id": "c9fd36d7",
   "metadata": {},
   "source": [
    "### Plotting the Data\n",
    "Use proper labeling of the plots using plot titles (including date of analysis) and axes labels.\n",
    "Save the plotted figures as .pngs."
   ]
  },
  {
   "cell_type": "code",
   "execution_count": 11,
   "id": "f2370602",
   "metadata": {},
   "outputs": [
    {
     "data": {
      "image/png": "[encoded data removed]",
      "text/plain": [
       "<Figure size 432x288 with 1 Axes>"
      ]
     },
     "metadata": {
      "needs_background": "light"
     },
     "output_type": "display_data"
    }
   ],
   "source": [
    "#format the max date in the dataset as \"runDate\" for graph titles\n",
    "endRunDate = City_Data[\"Date\"].max()\n",
    "runDate = datetime.utcfromtimestamp(endRunDate).strftime('%Y-%m-%d')\n",
    "\n",
    "#set data to plot\n",
    "x = City_Data[\"Latitude\"]\n",
    "y = City_Data[\"Temperature\"]\n",
    "plt.scatter(x,y)\n",
    "#add gridlines\n",
    "plt.grid()\n",
    "#add titles and axis labels\n",
    "plt.title(f\"Latitude vs Temperature on {runDate}\")\n",
    "plt.xlabel(\"Latitude\")\n",
    "plt.ylabel(\"Temperature (F)\")\n",
    "#export as png\n",
    "plt.savefig(f'Latitude vs Temperature on {runDate}.png')\n",
    "#display plot!\n",
    "plt.show()"
   ]
  },
  {
   "cell_type": "markdown",
   "id": "8b10908d",
   "metadata": {},
   "source": [
    "### Latitude vs Temperature Scatter Plot Insights\n",
    "The scatter plot maps cities' temperature against their latitude. Cities selected randomly. The arc of the scatter plot shows temperature increasing near the equator (Latitude 0) and dropping off further away. Given the run date of June 2020, the plot also skews higher temperatures to the right of the equator due to summer in the northern hemisphere."
   ]
  },
  {
   "cell_type": "code",
   "execution_count": 12,
   "id": "c9cb1ecc",
   "metadata": {},
   "outputs": [
    {
     "data": {
      "image/png": "[encoded data removed]",
      "text/plain": [
       "<Figure size 432x288 with 1 Axes>"
      ]
     },
     "metadata": {
      "needs_background": "light"
     },
     "output_type": "display_data"
    }
   ],
   "source": [
    "#set data to plot; retain Latitude from previous plot as \"x\"\n",
    "h = City_Data[\"Humidity\"]\n",
    "plt.scatter(x,h)\n",
    "plt.title(f\"Latitude vs Humidity on {runDate}\")\n",
    "plt.grid()\n",
    "plt.xlabel(\"Latitude\")\n",
    "plt.ylabel(\"Humidity (%)\")\n",
    "plt.savefig(f'Latitude vs Humidity on {runDate}.png')\n",
    "plt.show()"
   ]
  },
  {
   "cell_type": "markdown",
   "id": "20fc8cdc",
   "metadata": {},
   "source": [
    "### Latitude vs Humidity Scatter Plot Insights\n",
    "The scatter plot maps cities' humidity against their latitude. Cities selected randomly.\n",
    "\n",
    "The result reveals no correlation between humidity and latitude."
   ]
  },
  {
   "cell_type": "markdown",
   "id": "54a562e9",
   "metadata": {},
   "source": [
    "### Latitude vs. Cloudiness Plot\n"
   ]
  },
  {
   "cell_type": "code",
   "execution_count": 13,
   "id": "23e6e964",
   "metadata": {},
   "outputs": [
    {
     "data": {
      "text/plain": [
       "<function matplotlib.pyplot.show(close=None, block=None)>"
      ]
     },
     "execution_count": 13,
     "metadata": {},
     "output_type": "execute_result"
    },
    {
     "data": {
      "image/png": "[encoded data removed]",
      "text/plain": [
       "<Figure size 432x288 with 1 Axes>"
      ]
     },
     "metadata": {
      "needs_background": "light"
     },
     "output_type": "display_data"
    }
   ],
   "source": [
    "c = City_Data[\"Cloudiness\"]\n",
    "plt.scatter(x,c)\n",
    "plt.title(f\"Latitude vs Cloudiness on {runDate}\")\n",
    "plt.grid()\n",
    "plt.xlabel(\"Latitude\")\n",
    "plt.ylabel(\"Cloudiness (%)\")\n",
    "plt.savefig(f'Latitude vs Cloudiness on {runDate}.png')\n",
    "plt.show"
   ]
  },
  {
   "cell_type": "markdown",
   "id": "e429db46",
   "metadata": {},
   "source": [
    "### Latitude vs Cloudiness Scatter Plot Insights\n",
    "The scatter plot maps cities' cloudiness percent against their latitude. Cities selected randomly.\n",
    "\n",
    "The result reveals no correlation between cloudiness and latitude."
   ]
  },
  {
   "cell_type": "markdown",
   "id": "817003bb",
   "metadata": {},
   "source": [
    "### Latitude vs. Wind Speed Plot\n"
   ]
  },
  {
   "cell_type": "code",
   "execution_count": 14,
   "id": "40ca0556",
   "metadata": {},
   "outputs": [
    {
     "data": {
      "image/png": "[encoded data removed]",
      "text/plain": [
       "<Figure size 432x288 with 1 Axes>"
      ]
     },
     "metadata": {
      "needs_background": "light"
     },
     "output_type": "display_data"
    }
   ],
   "source": [
    "ws = City_Data[\"Windspeed\"]\n",
    "plt.scatter(x,ws)\n",
    "plt.title(f\"Latitude vs Windspeed on {runDate}\")\n",
    "plt.grid()\n",
    "plt.xlabel(\"Latitude\")\n",
    "plt.ylabel(\"Windspeed (mph)\")\n",
    "plt.savefig(f'Latitude vs Windspeed on {runDate}.png')\n",
    "plt.show()"
   ]
  },
  {
   "cell_type": "markdown",
   "id": "b44080f9",
   "metadata": {},
   "source": [
    "### Latitude vs Wind Speed Scatter Plot Insights\n",
    "The scatter plot maps cities' wind speed against their latitude. Cities selected randomly.\n",
    "\n",
    "The result reveals no particular correlation between wind speed and latitude."
   ]
  },
  {
   "cell_type": "markdown",
   "id": "bf4343cb",
   "metadata": {},
   "source": [
    "#### Linear Regression\n"
   ]
  },
  {
   "cell_type": "code",
   "execution_count": 15,
   "id": "c9de7a3c",
   "metadata": {},
   "outputs": [],
   "source": [
    "# OPTIONAL: Create a function to create Linear Regression plots\n",
    "\n",
    "#function to call is \"linearRegression\"\n",
    "#variables are\n",
    "# x_values: first set of data\n",
    "# y_values: second set of data\n",
    "# regEQplotX: where the linear regression equasion appears on the plot x line\n",
    "# regEQplotY: where the linear regression equasion appears on the plot y line\n",
    "# y_label: the y axis label of the plot (x label is always Latitude)\n",
    "\n",
    "def linearRegression(x_values,y_values,regEQplotX,regEQplotY,y_label):\n",
    "    (slope, intercept, rvalue, pvalue, stderr) = linregress(x_values, y_values)\n",
    "    regress_values = x_values * slope + intercept\n",
    "    line_eq = \"y = \" + str(round(slope,2)) + \"x + \" + str(round(intercept,2))\n",
    "    plt.scatter(x_values,y_values)\n",
    "    plt.plot(x_values,regress_values,\"r-\")\n",
    "    print(f'The r-square is {rvalue}')\n",
    "    print(line_eq)\n",
    "    plt.annotate(line_eq,(regEQplotX,regEQplotY),fontsize=15,color=\"red\")\n",
    "    plt.xlabel('Latitude')\n",
    "    plt.ylabel(f'{y_label}')\n",
    "    plt.grid()"
   ]
  },
  {
   "cell_type": "code",
   "execution_count": 16,
   "id": "57598bca",
   "metadata": {},
   "outputs": [],
   "source": [
    "# Create Northern and Southern Hemisphere DataFrames\n",
    "#pull loc above and below the equator; note any cities directly on the equator (i.e. latitude = 0) are excluded\n",
    "Northern_DF = Weather_DF.loc[Weather_DF[\"Latitude\"] > 0]\n",
    "Southern_DF = Weather_DF.loc[Weather_DF[\"Latitude\"] < 0]"
   ]
  },
  {
   "cell_type": "markdown",
   "id": "1ba8926e",
   "metadata": {},
   "source": [
    "#### Northern Hemisphere - Max Temp vs. Latitude Linear Regression\n"
   ]
  },
  {
   "cell_type": "code",
   "execution_count": 17,
   "id": "8907b54a",
   "metadata": {},
   "outputs": [
    {
     "name": "stdout",
     "output_type": "stream",
     "text": [
      "The r-square is -0.8684134144679335\n",
      "y = -1.25x + 97.82\n"
     ]
    },
    {
     "data": {
      "image/png": "[encoded data removed]",
      "text/plain": [
       "<Figure size 432x288 with 1 Axes>"
      ]
     },
     "metadata": {
      "needs_background": "light"
     },
     "output_type": "display_data"
    }
   ],
   "source": [
    "#set the data sets to compare\n",
    "x_values = Northern_DF[\"Latitude\"]\n",
    "y_values = Northern_DF[\"Temperature\"]\n",
    "#tweak where the equation appears on the plot\n",
    "regEQplotX = 0\n",
    "regEQplotY = 40\n",
    "#label the y axis\n",
    "y_label = \"Temperature (F)\"\n",
    "#give the title\n",
    "plt.title(f'Northern Hemisphere Latitude vs Temp on {runDate}')\n",
    "#run the function with all 5 variables\n",
    "linearRegression(x_values,y_values,regEQplotX,regEQplotY,y_label)\n",
    "#save as a png to the neighboring output_data folder\n",
    "plt.savefig(f'Northern Hemisphere Latitude vs Temp on {runDate}.png')\n",
    "plt.show()"
   ]
  },
  {
   "cell_type": "markdown",
   "id": "4122afda",
   "metadata": {},
   "source": [
    "#### Southern Hemisphere - Max Temp vs. Latitude Linear Regression\n"
   ]
  },
  {
   "cell_type": "code",
   "execution_count": 18,
   "id": "f2f7c988",
   "metadata": {},
   "outputs": [
    {
     "name": "stdout",
     "output_type": "stream",
     "text": [
      "The r-square is 0.638239024307667\n",
      "y = 0.5x + 84.3\n"
     ]
    },
    {
     "data": {
      "image/png": "[encoded data removed]",
      "text/plain": [
       "<Figure size 432x288 with 1 Axes>"
      ]
     },
     "metadata": {
      "needs_background": "light"
     },
     "output_type": "display_data"
    }
   ],
   "source": [
    "x_values = Southern_DF[\"Latitude\"]\n",
    "y_values = Southern_DF[\"Temperature\"]\n",
    "regEQplotX = -25\n",
    "regEQplotY = 40\n",
    "y_label = \"Temperature (F)\"\n",
    "plt.title(f'Southern Hemisphere Latitude vs Temp on {runDate}')\n",
    "linearRegression(x_values,y_values,regEQplotX,regEQplotY,y_label)\n",
    "plt.savefig(f'Southern Hemisphere Latitude vs Temp on {runDate}.png')\n",
    "plt.show()"
   ]
  },
  {
   "cell_type": "markdown",
   "id": "46e8c626",
   "metadata": {},
   "source": [
    "### North/South Latitude vs HUMIDITY Linear Regression Insights\n",
    "The scatter plot maps Northern and Southern cities' humidity against their latitude. Cities selected randomly.\n",
    "The result reveals no correlation between latitude and humidity."
   ]
  },
  {
   "cell_type": "markdown",
   "id": "29e3b74a",
   "metadata": {},
   "source": [
    "#### Northern Hemisphere - Cloudiness (%) vs. Latitude Linear Regression\n"
   ]
  },
  {
   "cell_type": "code",
   "execution_count": 19,
   "id": "81984314",
   "metadata": {},
   "outputs": [
    {
     "name": "stdout",
     "output_type": "stream",
     "text": [
      "The r-square is 0.08431232936286524\n",
      "y = 0.17x + 47.82\n"
     ]
    },
    {
     "data": {
      "image/png": "[encoded data removed]",
      "text/plain": [
       "<Figure size 432x288 with 1 Axes>"
      ]
     },
     "metadata": {
      "needs_background": "light"
     },
     "output_type": "display_data"
    }
   ],
   "source": [
    "x_values = Northern_DF[\"Latitude\"]\n",
    "y_values = Northern_DF[\"Cloudiness\"]\n",
    "regEQplotX = 0\n",
    "regEQplotY = 25\n",
    "y_label = \"Cloudiness (%)\"\n",
    "plt.title(f'Northern Hemisphere Latitude vs Cloudiness on {runDate}')\n",
    "linearRegression(x_values,y_values,regEQplotX,regEQplotY,y_label)\n",
    "plt.savefig(f'Northern Hemisphere Latitude vs Cloudiness on {runDate}.png')\n",
    "plt.show()"
   ]
  },
  {
   "cell_type": "markdown",
   "id": "adfc01eb",
   "metadata": {},
   "source": [
    "#### Southern Hemisphere - Cloudiness (%) vs. Latitude Linear Regression\n"
   ]
  },
  {
   "cell_type": "code",
   "execution_count": 20,
   "id": "5fd3599e",
   "metadata": {},
   "outputs": [
    {
     "name": "stdout",
     "output_type": "stream",
     "text": [
      "The r-square is 0.29788684699970447\n",
      "y = 0.83x + 76.79\n"
     ]
    },
    {
     "data": {
      "image/png": "[encoded data removed]",
      "text/plain": [
       "<Figure size 432x288 with 1 Axes>"
      ]
     },
     "metadata": {
      "needs_background": "light"
     },
     "output_type": "display_data"
    }
   ],
   "source": [
    "x_values = Southern_DF[\"Latitude\"]\n",
    "y_values = Southern_DF[\"Cloudiness\"]\n",
    "regEQplotX = -55\n",
    "regEQplotY = 60\n",
    "y_label = \"Cloudiness (%)\"\n",
    "plt.title(f'Southern Hemisphere Latitude vs Cloudiness on {runDate}')\n",
    "linearRegression(x_values,y_values,regEQplotX,regEQplotY,y_label)\n",
    "plt.savefig(f'Southern Hemisphere Latitude vs Cloudiness on {runDate}.png')\n",
    "plt.show()"
   ]
  },
  {
   "cell_type": "markdown",
   "id": "255d25ee",
   "metadata": {},
   "source": [
    "#### North/South Latitude vs CLOUDINESS Linear Regression Insights\n",
    "The scatter plot maps Northern and Southern cities' cloudiness against their latitude. Cities selected randomly.\n",
    "The result reveals no correlation between latitude and cloudiness."
   ]
  },
  {
   "cell_type": "markdown",
   "id": "09d05517",
   "metadata": {},
   "source": [
    "### Northern Hemisphere - Wind Speed (mph) vs. Latitude Linear Regression\n"
   ]
  },
  {
   "cell_type": "code",
   "execution_count": 21,
   "id": "401b39b8",
   "metadata": {},
   "outputs": [
    {
     "name": "stdout",
     "output_type": "stream",
     "text": [
      "The r-square is 0.05053514140115655\n",
      "y = 0.02x + 8.76\n"
     ]
    },
    {
     "data": {
      "image/png": "[encoded data removed]",
      "text/plain": [
       "<Figure size 432x288 with 1 Axes>"
      ]
     },
     "metadata": {
      "needs_background": "light"
     },
     "output_type": "display_data"
    }
   ],
   "source": [
    "x_values = Northern_DF[\"Latitude\"]\n",
    "y_values = Northern_DF[\"Windspeed\"]\n",
    "regEQplotX = 35\n",
    "regEQplotY = 25\n",
    "y_label = \"Wind Speed (MPH)\"\n",
    "plt.title(f'Northern Hemisphere Latitude vs Wind Speed on {runDate}')\n",
    "linearRegression(x_values,y_values,regEQplotX,regEQplotY,y_label)\n",
    "plt.savefig(f'Northern Hemisphere Latitude vs Wind Speed on {runDate}.png')\n",
    "plt.show()"
   ]
  },
  {
   "cell_type": "markdown",
   "id": "a76e11ff",
   "metadata": {},
   "source": [
    "### Southern Hemisphere - Wind Speed (mph) vs. Latitude Linear Regression\n"
   ]
  },
  {
   "cell_type": "code",
   "execution_count": 22,
   "id": "a1e7da28",
   "metadata": {},
   "outputs": [
    {
     "name": "stdout",
     "output_type": "stream",
     "text": [
      "The r-square is -0.27535103461833876\n",
      "y = -0.11x + 5.48\n"
     ]
    },
    {
     "data": {
      "image/png": "[encoded data removed]",
      "text/plain": [
       "<Figure size 432x288 with 1 Axes>"
      ]
     },
     "metadata": {
      "needs_background": "light"
     },
     "output_type": "display_data"
    }
   ],
   "source": [
    "x_values = Southern_DF[\"Latitude\"]\n",
    "y_values = Southern_DF[\"Windspeed\"]\n",
    "regEQplotX = -50\n",
    "regEQplotY = 25\n",
    "y_label = \"Wind Speed (MPH)\"\n",
    "plt.title(f'Southern Hemisphere Latitude vs Wind Speed on {runDate}')\n",
    "linearRegression(x_values,y_values,regEQplotX,regEQplotY,y_label)\n",
    "plt.savefig(f'Southern Hemisphere Latitude vs Wind Speed on {runDate}.png')\n",
    "plt.show()"
   ]
  },
  {
   "cell_type": "code",
   "execution_count": null,
   "id": "07f1d63b",
   "metadata": {},
   "outputs": [],
   "source": [
    "    "
   ]
  },
  {
   "cell_type": "code",
   "execution_count": null,
   "id": "d9929f9b",
   "metadata": {},
   "outputs": [],
   "source": []
  }
 ],
 "metadata": {
  "kernelspec": {
   "display_name": "Python 3 (ipykernel)",
   "language": "python",
   "name": "python3"
  },
  "language_info": {
   "codemirror_mode": {
    "name": "ipython",
    "version": 3
   },
   "file_extension": ".py",
   "mimetype": "text/x-python",
   "name": "python",
   "nbconvert_exporter": "python",
   "pygments_lexer": "ipython3",
   "version": "3.9.7"
  }
 },
 "nbformat": 4,
 "nbformat_minor": 5
}
